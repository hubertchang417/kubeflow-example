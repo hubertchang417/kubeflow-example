{
 "cells": [
  {
   "cell_type": "code",
   "execution_count": null,
   "metadata": {},
   "outputs": [],
   "source": [
    "import os\n",
    "import sys\n",
    "from PIL import Image\n",
    "import numpy as np\n",
    "# sys.path.append(os.getcwd())\n",
    "from utils.general import SeldonCurl, PCB_PostProc\n",
    "%matplotlib inline"
   ]
  },
  {
   "cell_type": "code",
   "execution_count": null,
   "metadata": {},
   "outputs": [],
   "source": [
    "auth_token = '<auth_token>' # auth service token\n",
    "sc = SeldonCurl(\n",
    "    gateway_ep=\"<endpoint>\", # gateway endpoint\n",
    "    gateway=\"istio\", # gateway type istio or default\n",
    "    deploy_name=\"<deploy_name>\", # deploy name\n",
    "    deploy_ns=\"<deploy_ns>\", # deploy namespace\n",
    "    auth_token=auth_token,\n",
    "    cert='<cert_path>' # cert path\n",
    ")"
   ]
  },
  {
   "cell_type": "code",
   "execution_count": null,
   "metadata": {},
   "outputs": [],
   "source": [
    "test_img = \"<test_img_path>\"\n",
    "img = Image.open(test_img)\n",
    "img = np.array(img)/255.\n",
    "img = img.reshape(-1,640,640,3)\n",
    "\n",
    "res = sc.predict(img)\n",
    "\n",
    "post_proc = PCB_PostProc(res, test_img)\n",
    "post_proc.show(confidence=0.2)"
   ]
  }
 ],
 "metadata": {
  "language_info": {
   "name": "python"
  }
 },
 "nbformat": 4,
 "nbformat_minor": 2
}
