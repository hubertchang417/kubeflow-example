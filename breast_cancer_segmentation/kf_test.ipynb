{
 "cells": [
  {
   "cell_type": "code",
   "execution_count": null,
   "metadata": {},
   "outputs": [],
   "source": [
    "import os\n",
    "import sys\n",
    "from PIL import Image\n",
    "import numpy as np\n",
    "# sys.path.append(os.getcwd())\n",
    "from utils.general import SeldonCurl, BCS_PostProc\n",
    "%matplotlib inline"
   ]
  },
  {
   "cell_type": "code",
   "execution_count": null,
   "metadata": {},
   "outputs": [],
   "source": [
    "auth_token = '<auth_token>' # auth service token\n",
    "sc = SeldonCurl(\n",
    "    gateway_ep=\"<endpoint>\", # gateway endpoint\n",
    "    gateway=\"istio\", # gateway type istio or default\n",
    "    deploy_name=\"<deploy_name>\", # deploy name\n",
    "    deploy_ns=\"<deploy_ns>\", # deploy namespace\n",
    "    auth_token=auth_token,\n",
    "    cert='<cert_path>' # cert path\n",
    ")"
   ]
  },
  {
   "cell_type": "code",
   "execution_count": null,
   "metadata": {},
   "outputs": [],
   "source": [
    "test_folder = '<test_folder>'\n",
    "img = Image.open(f'{test_folder}/image.png')\n",
    "img_np = np.array(img)/255.0\n",
    "img_np = img_np.reshape(-1,256,256,3)\n",
    "res = sc.predict(img_np)\n",
    "print(f'Response: {res.status_code}')\n",
    "\n",
    "# show result\n",
    "postProc = BCS_PostProc(res, test_folder)\n",
    "postProc.show()"
   ]
  }
 ],
 "metadata": {
  "kernelspec": {
   "display_name": "Python 3",
   "language": "python",
   "name": "python3"
  },
  "language_info": {
   "codemirror_mode": {
    "name": "ipython",
    "version": 3
   },
   "file_extension": ".py",
   "mimetype": "text/x-python",
   "name": "python",
   "nbconvert_exporter": "python",
   "pygments_lexer": "ipython3",
   "version": "3.11.3"
  }
 },
 "nbformat": 4,
 "nbformat_minor": 2
}
